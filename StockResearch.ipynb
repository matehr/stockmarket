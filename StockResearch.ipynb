{
  "nbformat": 4,
  "nbformat_minor": 0,
  "metadata": {
    "colab": {
      "name": "StockResearch.ipynb",
      "provenance": [],
      "authorship_tag": "ABX9TyM6T7HY2a0Mj4Ip6L7ylKNP",
      "include_colab_link": true
    },
    "kernelspec": {
      "name": "python3",
      "display_name": "Python 3"
    }
  },
  "cells": [
    {
      "cell_type": "markdown",
      "metadata": {
        "id": "view-in-github",
        "colab_type": "text"
      },
      "source": [
        "<a href=\"https://colab.research.google.com/github/matehr/stockmarket/blob/master/StockResearch.ipynb\" target=\"_parent\"><img src=\"https://colab.research.google.com/assets/colab-badge.svg\" alt=\"Open In Colab\"/></a>"
      ]
    },
    {
      "cell_type": "code",
      "metadata": {
        "id": "Ly8EIZqrBaHQ",
        "colab_type": "code",
        "outputId": "cd3c8f2b-1c2c-4c46-957e-059605c42c08",
        "colab": {
          "base_uri": "https://localhost:8080/",
          "height": 1000
        }
      },
      "source": [
        "!pip install SECEdgar\n",
        "import SECEdgar"
      ],
      "execution_count": 1,
      "outputs": [
        {
          "output_type": "stream",
          "text": [
            "Collecting SECEdgar\n",
            "  Downloading https://files.pythonhosted.org/packages/8a/88/a6c2d1f2417f2eed1311bd192f178d4eb8be08d592acc557848e09e624bc/SECEdgar-0.1.4-py3-none-any.whl\n",
            "Collecting future==0.13.1\n",
            "\u001b[?25l  Downloading https://files.pythonhosted.org/packages/b4/e6/07e207c894654762689a37c1b697c16aee1360df6eeafcbd66d3a16b9812/future-0.13.1.tar.gz (893kB)\n",
            "\u001b[K     |████████████████████████████████| 901kB 4.1MB/s \n",
            "\u001b[?25hCollecting flake8\n",
            "\u001b[?25l  Downloading https://files.pythonhosted.org/packages/f8/1f/7ea40d1e4146ea55dbab41cda1376db092a75794914169aabd7e8d7a7def/flake8-3.7.9-py2.py3-none-any.whl (69kB)\n",
            "\u001b[K     |████████████████████████████████| 71kB 9.2MB/s \n",
            "\u001b[?25hRequirement already satisfied: requests>=2.21.0 in /usr/local/lib/python3.6/dist-packages (from SECEdgar) (2.21.0)\n",
            "Collecting pytest==3.6.3\n",
            "\u001b[?25l  Downloading https://files.pythonhosted.org/packages/77/64/3a76f6fbb0f392d60c5960f2b2fbad8c2b802dada87ca6d1b99c0083a929/pytest-3.6.3-py2.py3-none-any.whl (195kB)\n",
            "\u001b[K     |████████████████████████████████| 204kB 53.0MB/s \n",
            "\u001b[?25hCollecting beautifulsoup4==4.4.0\n",
            "\u001b[?25l  Downloading https://files.pythonhosted.org/packages/63/05/e1b733dc34fce994954c06bd198486c1becc2839d64ac1747424d49e8a35/beautifulsoup4-4.4.0-py3-none-any.whl (80kB)\n",
            "\u001b[K     |████████████████████████████████| 81kB 10.6MB/s \n",
            "\u001b[?25hCollecting pycodestyle<2.6.0,>=2.5.0\n",
            "\u001b[?25l  Downloading https://files.pythonhosted.org/packages/0e/0c/04a353e104d2f324f8ee5f4b32012618c1c86dd79e52a433b64fceed511b/pycodestyle-2.5.0-py2.py3-none-any.whl (51kB)\n",
            "\u001b[K     |████████████████████████████████| 51kB 7.3MB/s \n",
            "\u001b[?25hCollecting mccabe<0.7.0,>=0.6.0\n",
            "  Downloading https://files.pythonhosted.org/packages/87/89/479dc97e18549e21354893e4ee4ef36db1d237534982482c3681ee6e7b57/mccabe-0.6.1-py2.py3-none-any.whl\n",
            "Requirement already satisfied: entrypoints<0.4.0,>=0.3.0 in /usr/local/lib/python3.6/dist-packages (from flake8->SECEdgar) (0.3)\n",
            "Collecting pyflakes<2.2.0,>=2.1.0\n",
            "\u001b[?25l  Downloading https://files.pythonhosted.org/packages/84/f2/ed0ffb887f8138a8fe5a621b8c0bb9598bfb3989e029f6c6a85ee66628ee/pyflakes-2.1.1-py2.py3-none-any.whl (59kB)\n",
            "\u001b[K     |████████████████████████████████| 61kB 8.5MB/s \n",
            "\u001b[?25hRequirement already satisfied: urllib3<1.25,>=1.21.1 in /usr/local/lib/python3.6/dist-packages (from requests>=2.21.0->SECEdgar) (1.24.3)\n",
            "Requirement already satisfied: chardet<3.1.0,>=3.0.2 in /usr/local/lib/python3.6/dist-packages (from requests>=2.21.0->SECEdgar) (3.0.4)\n",
            "Requirement already satisfied: idna<2.9,>=2.5 in /usr/local/lib/python3.6/dist-packages (from requests>=2.21.0->SECEdgar) (2.8)\n",
            "Requirement already satisfied: certifi>=2017.4.17 in /usr/local/lib/python3.6/dist-packages (from requests>=2.21.0->SECEdgar) (2019.11.28)\n",
            "Requirement already satisfied: py>=1.5.0 in /usr/local/lib/python3.6/dist-packages (from pytest==3.6.3->SECEdgar) (1.8.1)\n",
            "Requirement already satisfied: six>=1.10.0 in /usr/local/lib/python3.6/dist-packages (from pytest==3.6.3->SECEdgar) (1.12.0)\n",
            "Requirement already satisfied: atomicwrites>=1.0 in /usr/local/lib/python3.6/dist-packages (from pytest==3.6.3->SECEdgar) (1.3.0)\n",
            "Requirement already satisfied: more-itertools>=4.0.0 in /usr/local/lib/python3.6/dist-packages (from pytest==3.6.3->SECEdgar) (8.2.0)\n",
            "Requirement already satisfied: attrs>=17.4.0 in /usr/local/lib/python3.6/dist-packages (from pytest==3.6.3->SECEdgar) (19.3.0)\n",
            "Collecting pluggy<0.7,>=0.5\n",
            "  Downloading https://files.pythonhosted.org/packages/ba/65/ded3bc40bbf8d887f262f150fbe1ae6637765b5c9534bd55690ed2c0b0f7/pluggy-0.6.0-py3-none-any.whl\n",
            "Requirement already satisfied: setuptools in /usr/local/lib/python3.6/dist-packages (from pytest==3.6.3->SECEdgar) (45.2.0)\n",
            "Building wheels for collected packages: future\n",
            "  Building wheel for future (setup.py) ... \u001b[?25l\u001b[?25hdone\n",
            "  Created wheel for future: filename=future-0.13.1-cp36-none-any.whl size=819609 sha256=09620d13a3762ca351560ceda1afcaa243e1f20f32482c0644a2321dcc78d859\n",
            "  Stored in directory: /root/.cache/pip/wheels/c6/3f/e0/ca7830d081d7c5612ea75ad8fe684c50dc480164d95bc8431a\n",
            "Successfully built future\n",
            "\u001b[31mERROR: np-utils 0.5.12.1 has requirement future>=0.16, but you'll have future 0.13.1 which is incompatible.\u001b[0m\n",
            "\u001b[31mERROR: featuretools 0.4.1 has requirement future>=0.16.0, but you'll have future 0.13.1 which is incompatible.\u001b[0m\n",
            "\u001b[31mERROR: datascience 0.10.6 has requirement folium==0.2.1, but you'll have folium 0.8.3 which is incompatible.\u001b[0m\n",
            "\u001b[31mERROR: autograd 1.3 has requirement future>=0.15.2, but you'll have future 0.13.1 which is incompatible.\u001b[0m\n",
            "Installing collected packages: future, pycodestyle, mccabe, pyflakes, flake8, pluggy, pytest, beautifulsoup4, SECEdgar\n",
            "  Found existing installation: future 0.16.0\n",
            "    Uninstalling future-0.16.0:\n",
            "      Successfully uninstalled future-0.16.0\n",
            "  Found existing installation: pluggy 0.7.1\n",
            "    Uninstalling pluggy-0.7.1:\n",
            "      Successfully uninstalled pluggy-0.7.1\n",
            "  Found existing installation: pytest 3.6.4\n",
            "    Uninstalling pytest-3.6.4:\n",
            "      Successfully uninstalled pytest-3.6.4\n",
            "  Found existing installation: beautifulsoup4 4.6.3\n",
            "    Uninstalling beautifulsoup4-4.6.3:\n",
            "      Successfully uninstalled beautifulsoup4-4.6.3\n",
            "Successfully installed SECEdgar-0.1.4 beautifulsoup4-4.4.0 flake8-3.7.9 future-0.13.1 mccabe-0.6.1 pluggy-0.6.0 pycodestyle-2.5.0 pyflakes-2.1.1 pytest-3.6.3\n"
          ],
          "name": "stdout"
        }
      ]
    },
    {
      "cell_type": "code",
      "metadata": {
        "id": "-r7V9TzIB3Bu",
        "colab_type": "code",
        "outputId": "e73a58bd-ba67-4225-c408-55d5adf4b2d0",
        "colab": {
          "base_uri": "https://localhost:8080/",
          "height": 34
        }
      },
      "source": [
        "import re, requests\n",
        "\n",
        "def getCIKs(TICKERS):\n",
        "    URL = 'http://www.sec.gov/cgi-bin/browse-edgar?CIK={}&Find=Search&owner=exclude&action=getcompany'\n",
        "    CIK_RE = re.compile(r'.*CIK=(\\d{10}).*')    \n",
        "    cik_dict = {}\n",
        "    for ticker in TICKERS:\n",
        "        f = requests.get(URL.format(ticker), stream = True)\n",
        "        results = CIK_RE.findall(f.text)\n",
        "        if len(results):\n",
        "            results[0] = int(re.sub('\\.[0]*', '.', results[0]))\n",
        "            cik_dict[str(ticker).upper()] = str(results[0])\n",
        "    f = open('cik_dict', 'w')   \n",
        "    print(cik_dict)\n",
        "    f.close()\n",
        "\n",
        "getCIKs(['wmt','amzn','nflx'])\n",
        "\n",
        "\n"
      ],
      "execution_count": 4,
      "outputs": [
        {
          "output_type": "stream",
          "text": [
            "{'WMT': '104169', 'AMZN': '1018724', 'NFLX': '1065280'}\n"
          ],
          "name": "stdout"
        }
      ]
    }
  ]
}