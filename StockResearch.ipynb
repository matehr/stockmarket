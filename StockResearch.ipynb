{
  "nbformat": 4,
  "nbformat_minor": 0,
  "metadata": {
    "colab": {
      "name": "StockResearch.ipynb",
      "provenance": [],
      "authorship_tag": "ABX9TyN9cQ4sTbpWEwMXjLv7y7hk",
      "include_colab_link": true
    },
    "kernelspec": {
      "name": "python3",
      "display_name": "Python 3"
    }
  },
  "cells": [
    {
      "cell_type": "markdown",
      "metadata": {
        "id": "view-in-github",
        "colab_type": "text"
      },
      "source": [
        "<a href=\"https://colab.research.google.com/github/matehr/stockmarket/blob/master/StockResearch.ipynb\" target=\"_parent\"><img src=\"https://colab.research.google.com/assets/colab-badge.svg\" alt=\"Open In Colab\"/></a>"
      ]
    },
    {
      "cell_type": "code",
      "metadata": {
        "id": "Ly8EIZqrBaHQ",
        "colab_type": "code",
        "colab": {
          "base_uri": "https://localhost:8080/",
          "height": 136
        },
        "outputId": "4278ea83-b439-4097-a2ee-96364149aed7"
      },
      "source": [
        "!pip install edgar\n",
        "import json\n",
        "import requests\n",
        "import edgar"
      ],
      "execution_count": 1,
      "outputs": [
        {
          "output_type": "stream",
          "text": [
            "Requirement already satisfied: edgar in /usr/local/lib/python3.6/dist-packages (5.1.14)\n",
            "Requirement already satisfied: requests in /usr/local/lib/python3.6/dist-packages (from edgar) (2.21.0)\n",
            "Requirement already satisfied: lxml in /usr/local/lib/python3.6/dist-packages (from edgar) (4.2.6)\n",
            "Requirement already satisfied: chardet<3.1.0,>=3.0.2 in /usr/local/lib/python3.6/dist-packages (from requests->edgar) (3.0.4)\n",
            "Requirement already satisfied: urllib3<1.25,>=1.21.1 in /usr/local/lib/python3.6/dist-packages (from requests->edgar) (1.24.3)\n",
            "Requirement already satisfied: certifi>=2017.4.17 in /usr/local/lib/python3.6/dist-packages (from requests->edgar) (2019.11.28)\n",
            "Requirement already satisfied: idna<2.9,>=2.5 in /usr/local/lib/python3.6/dist-packages (from requests->edgar) (2.8)\n"
          ],
          "name": "stdout"
        }
      ]
    },
    {
      "cell_type": "code",
      "metadata": {
        "id": "-r7V9TzIB3Bu",
        "colab_type": "code",
        "colab": {
          "base_uri": "https://localhost:8080/",
          "height": 71
        },
        "outputId": "c26e0438-3a97-466d-fddb-37b6f2e007ec"
      },
      "source": [
        "ticker = input(\"What stock ticker would you like to research?\")\n",
        "\n",
        "response = requests.get(\"https://financialmodelingprep.com/api/v3/financials/income-statement/\" + ticker)\n",
        "\n",
        "print(response.json())"
      ],
      "execution_count": 5,
      "outputs": [
        {
          "output_type": "stream",
          "text": [
            "What stock ticker would you like to research?CCL\n",
            "{'symbol': 'CCL', 'financials': [{'date': '2018-11-30', 'Revenue': '18881000000.0', 'Revenue Growth': '0.0782981153626499', 'Cost of Revenue': '11089000000.0', 'Gross Profit': '7792000000.0', 'R&D Expenses': '0.0', 'SG&A Expense': '2450000000.0', 'Operating Expenses': '4467000000.0', 'Operating Income': '3325000000.0', 'Interest Expense': '194000000.0', 'Earnings before Tax': '3206000000.0', 'Income Tax Expense': '54000000.0', 'Net Income - Non-Controlling int': '0.0', 'Net Income - Discontinued ops': '0.0', 'Net Income': '3152000000.0', 'Preferred Dividends': '0.0', 'Net Income Com': '3152000000.0', 'EPS': '4.45', 'EPS Diluted': '4.44', 'Weighted Average Shs Out': '725174680.0', 'Weighted Average Shs Out (Dil)': '725174680.0', 'Dividend per Share': '1.95', 'Gross Margin': '0.4127', 'EBITDA Margin': '0.287', 'EBIT Margin': '0.1801', 'Profit Margin': '0.167', 'Free Cash Flow margin': '0.1159', 'EBITDA': '5417000000.0', 'EBIT': '3400000000.0', 'Consolidated Income': '3152000000.0', 'Earnings Before Tax Margin': '0.1698', 'Net Profit Margin': '0.1669'}, {'date': '2017-11-30', 'Revenue': '17510000000.0', 'Revenue Growth': '0.0683995362743303', 'Cost of Revenue': '10501000000.0', 'Gross Profit': '7009000000.0', 'R&D Expenses': '0.0', 'SG&A Expense': '2265000000.0', 'Operating Expenses': '4200000000.0', 'Operating Income': '2809000000.0', 'Interest Expense': '198000000.0', 'Earnings before Tax': '2666000000.0', 'Income Tax Expense': '60000000.0', 'Net Income - Non-Controlling int': '0.0', 'Net Income - Discontinued ops': '0.0', 'Net Income': '2606000000.0', 'Preferred Dividends': '0.0', 'Net Income Com': '2606000000.0', 'EPS': '3.61', 'EPS Diluted': '3.59', 'Weighted Average Shs Out': '747105339.0', 'Weighted Average Shs Out (Dil)': '747105339.0', 'Dividend per Share': '1.6', 'Gross Margin': '0.4003', 'EBITDA Margin': '0.269', 'EBIT Margin': '0.1636', 'Profit Margin': '0.149', 'Free Cash Flow margin': '0.1358', 'EBITDA': '4710000000.0', 'EBIT': '2864000000.0', 'Consolidated Income': '2606000000.0', 'Earnings Before Tax Margin': '0.1523', 'Net Profit Margin': '0.1488'}, {'date': '2016-11-30', 'Revenue': '16389000000.0', 'Revenue Growth': '0.0429553264604811', 'Cost of Revenue': '9383000000.0', 'Gross Profit': '7006000000.0', 'R&D Expenses': '0.0', 'SG&A Expense': '2197000000.0', 'Operating Expenses': '3935000000.0', 'Operating Income': '3071000000.0', 'Interest Expense': '223000000.0', 'Earnings before Tax': '2828000000.0', 'Income Tax Expense': '49000000.0', 'Net Income - Non-Controlling int': '0.0', 'Net Income - Discontinued ops': '0.0', 'Net Income': '2779000000.0', 'Preferred Dividends': '0.0', 'Net Income Com': '2779000000.0', 'EPS': '3.73', 'EPS Diluted': '3.72', 'Weighted Average Shs Out': '754059202.0', 'Weighted Average Shs Out (Dil)': '754059202.0', 'Dividend per Share': '1.35', 'Gross Margin': '0.4275', 'EBITDA Margin': '0.292', 'EBIT Margin': '0.1862', 'Profit Margin': '0.17', 'Free Cash Flow margin': '0.128', 'EBITDA': '4789000000.0', 'EBIT': '3051000000.0', 'Consolidated Income': '2779000000.0', 'Earnings Before Tax Margin': '0.1726', 'Net Profit Margin': '0.1696'}, {'date': '2015-11-30', 'Revenue': '15714000000.0', 'Revenue Growth': '-0.0107025938050869', 'Cost of Revenue': '9447000000.0', 'Gross Profit': '6267000000.0', 'R&D Expenses': '0.0', 'SG&A Expense': '2067000000.0', 'Operating Expenses': '3693000000.0', 'Operating Income': '2574000000.0', 'Interest Expense': '217000000.0', 'Earnings before Tax': '1799000000.0', 'Income Tax Expense': '42000000.0', 'Net Income - Non-Controlling int': '0.0', 'Net Income - Discontinued ops': '0.0', 'Net Income': '1757000000.0', 'Preferred Dividends': '0.0', 'Net Income Com': '1757000000.0', 'EPS': '2.26', 'EPS Diluted': '2.26', 'Weighted Average Shs Out': '806565452.0', 'Weighted Average Shs Out (Dil)': '806565452.0', 'Dividend per Share': '1.1', 'Gross Margin': '0.3988', 'EBITDA Margin': '0.232', 'EBIT Margin': '0.1283', 'Profit Margin': '0.112', 'Free Cash Flow margin': '0.1432', 'EBITDA': '3642000000.0', 'EBIT': '2016000000.0', 'Consolidated Income': '1757000000.0', 'Earnings Before Tax Margin': '0.1145', 'Net Profit Margin': '0.1118'}, {'date': '2014-11-30', 'Revenue': '15884000000.0', 'Revenue Growth': '0.0276915113871636', 'Cost of Revenue': '10421000000.0', 'Gross Profit': '5463000000.0', 'R&D Expenses': '0.0', 'SG&A Expense': '2054000000.0', 'Operating Expenses': '3691000000.0', 'Operating Income': '1772000000.0', 'Interest Expense': '288000000.0', 'Earnings before Tax': '1225000000.0', 'Income Tax Expense': '9000000.0', 'Net Income - Non-Controlling int': '0.0', 'Net Income - Discontinued ops': '0.0', 'Net Income': '1216000000.0', 'Preferred Dividends': '0.0', 'Net Income Com': '1216000000.0', 'EPS': '1.57', 'EPS Diluted': '1.56', 'Weighted Average Shs Out': '808665977.0', 'Weighted Average Shs Out (Dil)': '808665977.0', 'Dividend per Share': '1.0', 'Gross Margin': '0.3439', 'EBITDA Margin': '0.198', 'EBIT Margin': '0.0953', 'Profit Margin': '0.077', 'Free Cash Flow margin': '0.056', 'EBITDA': '3150000000.0', 'EBIT': '1513000000.0', 'Consolidated Income': '1216000000.0', 'Earnings Before Tax Margin': '0.0771', 'Net Profit Margin': '0.0766'}, {'date': '2013-11-30', 'Revenue': '15456000000.0', 'Revenue Growth': '0.0', 'Cost of Revenue': '10645000000.0', 'Gross Profit': '4811000000.0', 'R&D Expenses': '0.0', 'SG&A Expense': '1879000000.0', 'Operating Expenses': '3482000000.0', 'Operating Income': '1329000000.0', 'Interest Expense': '319000000.0', 'Earnings before Tax': '1049000000.0', 'Income Tax Expense': '-6000000.0', 'Net Income - Non-Controlling int': '0.0', 'Net Income - Discontinued ops': '0.0', 'Net Income': '1055000000.0', 'Preferred Dividends': '0.0', 'Net Income Com': '1055000000.0', 'EPS': '1.36', 'EPS Diluted': '1.36', 'Weighted Average Shs Out': '807616647.0', 'Weighted Average Shs Out (Dil)': '807616647.0', 'Dividend per Share': '1.5', 'Gross Margin': '0.3113', 'EBITDA Margin': '0.191', 'EBIT Margin': '0.0885', 'Profit Margin': '0.068', 'Free Cash Flow margin': '0.0488', 'EBITDA': '2958000000.0', 'EBIT': '1368000000.0', 'Consolidated Income': '1055000000.0', 'Earnings Before Tax Margin': '0.0679', 'Net Profit Margin': '0.0683'}, {'date': '2012-11-30', 'Revenue': '0.0', 'Revenue Growth': '0.0', 'Cost of Revenue': '9787000000.0', 'Gross Profit': '-9787000000.0', 'R&D Expenses': '0.0', 'SG&A Expense': '1720000000.0', 'Operating Expenses': '3953000000.0', 'Operating Income': '1642000000.0', 'Interest Expense': '336000000.0', 'Earnings before Tax': '0.0', 'Income Tax Expense': '4000000.0', 'Net Income - Non-Controlling int': '0.0', 'Net Income - Discontinued ops': '0.0', 'Net Income': '1298000000.0', 'Preferred Dividends': '0.0', 'Net Income Com': '1298000000.0', 'EPS': '1.67', 'EPS Diluted': '1.67', 'Weighted Average Shs Out': '778000000.0', 'Weighted Average Shs Out (Dil)': '779000000.0', 'Dividend per Share': '1.0', 'Gross Margin': '0.0', 'EBITDA Margin': '0.0', 'EBIT Margin': '0.0', 'Profit Margin': '0.0', 'Free Cash Flow margin': '0.0', 'EBITDA': '3169000000.0', 'EBIT': '1642000000.0', 'Consolidated Income': '1298000000.0', 'Earnings Before Tax Margin': '0.0', 'Net Profit Margin': '0.0'}, {'date': '2011-11-30', 'Revenue': '0.0', 'Revenue Growth': '0.0', 'Cost of Revenue': '9574000000.0', 'Gross Profit': '-9574000000.0', 'R&D Expenses': '0.0', 'SG&A Expense': '1717000000.0', 'Operating Expenses': '3964000000.0', 'Operating Income': '2255000000.0', 'Interest Expense': '365000000.0', 'Earnings before Tax': '0.0', 'Income Tax Expense': '0.0', 'Net Income - Non-Controlling int': '0.0', 'Net Income - Discontinued ops': '0.0', 'Net Income': '1912000000.0', 'Preferred Dividends': '0.0', 'Net Income Com': '1912000000.0', 'EPS': '2.43', 'EPS Diluted': '2.42', 'Weighted Average Shs Out': '787000000.0', 'Weighted Average Shs Out (Dil)': '789000000.0', 'Dividend per Share': '0.850443599493', 'Gross Margin': '0.0', 'EBITDA Margin': '0.0', 'EBIT Margin': '0.0', 'Profit Margin': '0.0', 'Free Cash Flow margin': '0.0', 'EBITDA': '3777000000.0', 'EBIT': '2255000000.0', 'Consolidated Income': '1912000000.0', 'Earnings Before Tax Margin': '0.0', 'Net Profit Margin': '0.0'}, {'date': '2010-11-30', 'Revenue': '0.0', 'Revenue Growth': '-1', 'Cost of Revenue': '8476000000.0', 'Gross Profit': '-8476000000.0', 'R&D Expenses': '0.0', 'SG&A Expense': '1614000000.0', 'Operating Expenses': '3646000000.0', 'Operating Income': '2347000000.0', 'Interest Expense': '378000000.0', 'Earnings before Tax': '1979000000.0', 'Income Tax Expense': '1000000.0', 'Net Income - Non-Controlling int': '0.0', 'Net Income - Discontinued ops': '0.0', 'Net Income': '1978000000.0', 'Preferred Dividends': '0.0', 'Net Income Com': '1978000000.0', 'EPS': '2.51', 'EPS Diluted': '2.47', 'Weighted Average Shs Out': '788000000.0', 'Weighted Average Shs Out (Dil)': '805000000.0', 'Dividend per Share': '0.294409937888', 'Gross Margin': '0.0', 'EBITDA Margin': '0.0', 'EBIT Margin': '0.0', 'Profit Margin': '0.0', 'Free Cash Flow margin': '0.0', 'EBITDA': '3763000000.0', 'EBIT': '2347000000.0', 'Consolidated Income': '1978000000.0', 'Earnings Before Tax Margin': '0.0', 'Net Profit Margin': '0.0'}, {'date': '2009-11-30', 'Revenue': '13460000000.0', 'Revenue Growth': '-0.0995', 'Cost of Revenue': '8407000000.0', 'Gross Profit': '5053000000.0', 'R&D Expenses': '0.0', 'SG&A Expense': '1590000000.0', 'Operating Expenses': '2899000000.0', 'Operating Income': '2154000000.0', 'Interest Expense': '380000000.0', 'Earnings before Tax': '1806000000.0', 'Income Tax Expense': '16000000.0', 'Net Income - Non-Controlling int': '0.0', 'Net Income - Discontinued ops': '0.0', 'Net Income': '1790000000.0', 'Preferred Dividends': '0.0', 'Net Income Com': '1790000000.0', 'EPS': '2.27', 'EPS Diluted': '2.24', 'Weighted Average Shs Out': '837676005.0', 'Weighted Average Shs Out (Dil)': '837676005.0', 'Dividend per Share': '0.0', 'Gross Margin': '0.3754', 'EBITDA Margin': '0.26', 'EBIT Margin': '0.1624', 'Profit Margin': '0.133', 'Free Cash Flow margin': '-0.0028', 'EBITDA': '3495000000.0', 'EBIT': '2186000000.0', 'Consolidated Income': '1790000000.0', 'Earnings Before Tax Margin': '0.1342', 'Net Profit Margin': '0.133'}]}\n"
          ],
          "name": "stdout"
        }
      ]
    }
  ]
}