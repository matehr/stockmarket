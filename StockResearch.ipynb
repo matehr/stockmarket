{
  "nbformat": 4,
  "nbformat_minor": 0,
  "metadata": {
    "colab": {
      "name": "StockResearch.ipynb",
      "provenance": [],
      "authorship_tag": "ABX9TyOpkGj12LRboV70qhrLptfn",
      "include_colab_link": true
    },
    "kernelspec": {
      "name": "python3",
      "display_name": "Python 3"
    }
  },
  "cells": [
    {
      "cell_type": "markdown",
      "metadata": {
        "id": "view-in-github",
        "colab_type": "text"
      },
      "source": [
        "<a href=\"https://colab.research.google.com/github/matehr/stockmarket/blob/master/StockResearch.ipynb\" target=\"_parent\"><img src=\"https://colab.research.google.com/assets/colab-badge.svg\" alt=\"Open In Colab\"/></a>"
      ]
    },
    {
      "cell_type": "code",
      "metadata": {
        "id": "Ly8EIZqrBaHQ",
        "colab_type": "code",
        "outputId": "9fe66c50-a68a-46c6-f0c2-f26fb3cd37a2",
        "colab": {
          "base_uri": "https://localhost:8080/",
          "height": 1000
        }
      },
      "source": [
        "!pip3 install html5lib==0.9999999\n",
        "!git clone https://github.com/rahulrrixe/SEC-Edgar.git\n",
        "%cd SEC-Edgar\n",
        "!python setup.py install\n",
        "\n",
        "#!pip install SECEdgar\n",
        "#import SECEdgar"
      ],
      "execution_count": 1,
      "outputs": [
        {
          "output_type": "stream",
          "text": [
            "Requirement already satisfied: html5lib==0.9999999 in /usr/local/lib/python3.6/dist-packages (0.9999999)\n",
            "Requirement already satisfied: six in /usr/local/lib/python3.6/dist-packages (from html5lib==0.9999999) (1.12.0)\n",
            "fatal: destination path 'SEC-Edgar' already exists and is not an empty directory.\n",
            "/content/SEC-Edgar\n",
            "running install\n",
            "running bdist_egg\n",
            "running egg_info\n",
            "writing SECEdgar.egg-info/PKG-INFO\n",
            "writing dependency_links to SECEdgar.egg-info/dependency_links.txt\n",
            "writing entry points to SECEdgar.egg-info/entry_points.txt\n",
            "writing requirements to SECEdgar.egg-info/requires.txt\n",
            "writing top-level names to SECEdgar.egg-info/top_level.txt\n",
            "reading manifest template 'MANIFEST.in'\n",
            "writing manifest file 'SECEdgar.egg-info/SOURCES.txt'\n",
            "installing library code to build/bdist.linux-x86_64/egg\n",
            "running install_lib\n",
            "running build_py\n",
            "creating build/bdist.linux-x86_64/egg\n",
            "creating build/bdist.linux-x86_64/egg/SECEdgar\n",
            "copying build/lib/SECEdgar/__init__.py -> build/bdist.linux-x86_64/egg/SECEdgar\n",
            "copying build/lib/SECEdgar/crawler.py -> build/bdist.linux-x86_64/egg/SECEdgar\n",
            "creating build/bdist.linux-x86_64/egg/SECEdgar/filings\n",
            "copying build/lib/SECEdgar/filings/__init__.py -> build/bdist.linux-x86_64/egg/SECEdgar/filings\n",
            "copying build/lib/SECEdgar/filings/cik.py -> build/bdist.linux-x86_64/egg/SECEdgar/filings\n",
            "copying build/lib/SECEdgar/filings/cik_validator.py -> build/bdist.linux-x86_64/egg/SECEdgar/filings\n",
            "copying build/lib/SECEdgar/filings/base.py -> build/bdist.linux-x86_64/egg/SECEdgar/filings\n",
            "copying build/lib/SECEdgar/filings/filing_types.py -> build/bdist.linux-x86_64/egg/SECEdgar/filings\n",
            "copying build/lib/SECEdgar/base.py -> build/bdist.linux-x86_64/egg/SECEdgar\n",
            "creating build/bdist.linux-x86_64/egg/SECEdgar/tests\n",
            "copying build/lib/SECEdgar/tests/__init__.py -> build/bdist.linux-x86_64/egg/SECEdgar/tests\n",
            "copying build/lib/SECEdgar/tests/test_cik.py -> build/bdist.linux-x86_64/egg/SECEdgar/tests\n",
            "copying build/lib/SECEdgar/tests/conftest.py -> build/bdist.linux-x86_64/egg/SECEdgar/tests\n",
            "copying build/lib/SECEdgar/tests/test_dirs.py -> build/bdist.linux-x86_64/egg/SECEdgar/tests\n",
            "copying build/lib/SECEdgar/tests/test_filings.py -> build/bdist.linux-x86_64/egg/SECEdgar/tests\n",
            "copying build/lib/SECEdgar/tests/test_crawler.py -> build/bdist.linux-x86_64/egg/SECEdgar/tests\n",
            "creating build/bdist.linux-x86_64/egg/SECEdgar/utils\n",
            "copying build/lib/SECEdgar/utils/exceptions.py -> build/bdist.linux-x86_64/egg/SECEdgar/utils\n",
            "copying build/lib/SECEdgar/utils/__init__.py -> build/bdist.linux-x86_64/egg/SECEdgar/utils\n",
            "copying build/lib/SECEdgar/network_client.py -> build/bdist.linux-x86_64/egg/SECEdgar\n",
            "byte-compiling build/bdist.linux-x86_64/egg/SECEdgar/__init__.py to __init__.cpython-36.pyc\n",
            "byte-compiling build/bdist.linux-x86_64/egg/SECEdgar/crawler.py to crawler.cpython-36.pyc\n",
            "byte-compiling build/bdist.linux-x86_64/egg/SECEdgar/filings/__init__.py to __init__.cpython-36.pyc\n",
            "byte-compiling build/bdist.linux-x86_64/egg/SECEdgar/filings/cik.py to cik.cpython-36.pyc\n",
            "byte-compiling build/bdist.linux-x86_64/egg/SECEdgar/filings/cik_validator.py to cik_validator.cpython-36.pyc\n",
            "byte-compiling build/bdist.linux-x86_64/egg/SECEdgar/filings/base.py to base.cpython-36.pyc\n",
            "byte-compiling build/bdist.linux-x86_64/egg/SECEdgar/filings/filing_types.py to filing_types.cpython-36.pyc\n",
            "byte-compiling build/bdist.linux-x86_64/egg/SECEdgar/base.py to base.cpython-36.pyc\n",
            "byte-compiling build/bdist.linux-x86_64/egg/SECEdgar/tests/__init__.py to __init__.cpython-36.pyc\n",
            "byte-compiling build/bdist.linux-x86_64/egg/SECEdgar/tests/test_cik.py to test_cik.cpython-36.pyc\n",
            "byte-compiling build/bdist.linux-x86_64/egg/SECEdgar/tests/conftest.py to conftest.cpython-36.pyc\n",
            "byte-compiling build/bdist.linux-x86_64/egg/SECEdgar/tests/test_dirs.py to test_dirs.cpython-36.pyc\n",
            "byte-compiling build/bdist.linux-x86_64/egg/SECEdgar/tests/test_filings.py to test_filings.cpython-36.pyc\n",
            "byte-compiling build/bdist.linux-x86_64/egg/SECEdgar/tests/test_crawler.py to test_crawler.cpython-36.pyc\n",
            "byte-compiling build/bdist.linux-x86_64/egg/SECEdgar/utils/exceptions.py to exceptions.cpython-36.pyc\n",
            "byte-compiling build/bdist.linux-x86_64/egg/SECEdgar/utils/__init__.py to __init__.cpython-36.pyc\n",
            "byte-compiling build/bdist.linux-x86_64/egg/SECEdgar/network_client.py to network_client.cpython-36.pyc\n",
            "creating build/bdist.linux-x86_64/egg/EGG-INFO\n",
            "copying SECEdgar.egg-info/PKG-INFO -> build/bdist.linux-x86_64/egg/EGG-INFO\n",
            "copying SECEdgar.egg-info/SOURCES.txt -> build/bdist.linux-x86_64/egg/EGG-INFO\n",
            "copying SECEdgar.egg-info/dependency_links.txt -> build/bdist.linux-x86_64/egg/EGG-INFO\n",
            "copying SECEdgar.egg-info/entry_points.txt -> build/bdist.linux-x86_64/egg/EGG-INFO\n",
            "copying SECEdgar.egg-info/requires.txt -> build/bdist.linux-x86_64/egg/EGG-INFO\n",
            "copying SECEdgar.egg-info/top_level.txt -> build/bdist.linux-x86_64/egg/EGG-INFO\n",
            "zip_safe flag not set; analyzing archive contents...\n",
            "SECEdgar.__pycache__.crawler.cpython-36: module references __file__\n",
            "creating 'dist/SECEdgar-0.1.5-py3.6.egg' and adding 'build/bdist.linux-x86_64/egg' to it\n",
            "removing 'build/bdist.linux-x86_64/egg' (and everything under it)\n",
            "Processing SECEdgar-0.1.5-py3.6.egg\n",
            "removing '/usr/local/lib/python3.6/dist-packages/SECEdgar-0.1.5-py3.6.egg' (and everything under it)\n",
            "creating /usr/local/lib/python3.6/dist-packages/SECEdgar-0.1.5-py3.6.egg\n",
            "Extracting SECEdgar-0.1.5-py3.6.egg to /usr/local/lib/python3.6/dist-packages\n",
            "SECEdgar 0.1.5 is already the active version in easy-install.pth\n",
            "\n",
            "Installed /usr/local/lib/python3.6/dist-packages/SECEdgar-0.1.5-py3.6.egg\n",
            "Processing dependencies for SECEdgar==0.1.5\n",
            "Searching for lxml==4.2.6\n",
            "Best match: lxml 4.2.6\n",
            "Adding lxml 4.2.6 to easy-install.pth file\n",
            "\n",
            "Using /usr/local/lib/python3.6/dist-packages\n",
            "Searching for requests==2.21.0\n",
            "Best match: requests 2.21.0\n",
            "Adding requests 2.21.0 to easy-install.pth file\n",
            "\n",
            "Using /usr/local/lib/python3.6/dist-packages\n",
            "Searching for beautifulsoup4==4.4.0\n",
            "Best match: beautifulsoup4 4.4.0\n",
            "Adding beautifulsoup4 4.4.0 to easy-install.pth file\n",
            "\n",
            "Using /usr/local/lib/python3.6/dist-packages\n",
            "Searching for idna==2.8\n",
            "Best match: idna 2.8\n",
            "Adding idna 2.8 to easy-install.pth file\n",
            "\n",
            "Using /usr/local/lib/python3.6/dist-packages\n",
            "Searching for urllib3==1.24.3\n",
            "Best match: urllib3 1.24.3\n",
            "Adding urllib3 1.24.3 to easy-install.pth file\n",
            "\n",
            "Using /usr/local/lib/python3.6/dist-packages\n",
            "Searching for chardet==3.0.4\n",
            "Best match: chardet 3.0.4\n",
            "Adding chardet 3.0.4 to easy-install.pth file\n",
            "Installing chardetect script to /usr/local/bin\n",
            "\n",
            "Using /usr/local/lib/python3.6/dist-packages\n",
            "Searching for certifi==2019.11.28\n",
            "Best match: certifi 2019.11.28\n",
            "Adding certifi 2019.11.28 to easy-install.pth file\n",
            "\n",
            "Using /usr/local/lib/python3.6/dist-packages\n",
            "Finished processing dependencies for SECEdgar==0.1.5\n"
          ],
          "name": "stdout"
        }
      ]
    },
    {
      "cell_type": "code",
      "metadata": {
        "id": "-r7V9TzIB3Bu",
        "colab_type": "code",
        "outputId": "9a8f7c21-d6eb-4aef-ad6d-31a119689780",
        "colab": {
          "base_uri": "https://localhost:8080/",
          "height": 34
        }
      },
      "source": [
        "import re, requests\n",
        "\n",
        "def getCIKs(TICKERS):\n",
        "    URL = 'http://www.sec.gov/cgi-bin/browse-edgar?CIK={}&Find=Search&owner=exclude&action=getcompany'\n",
        "    CIK_RE = re.compile(r'.*CIK=(\\d{10}).*')    \n",
        "    cik_dict = {}\n",
        "    for ticker in TICKERS:\n",
        "        f = requests.get(URL.format(ticker), stream = True)\n",
        "        results = CIK_RE.findall(f.text)\n",
        "        if len(results):\n",
        "            results[0] = int(re.sub('\\.[0]*', '.', results[0]))\n",
        "            cik_dict[str(ticker).upper()] = str(results[0])\n",
        "    return cik_dict\n",
        "\n",
        "\n",
        "cik_dict = getCIKs(['amzn'])\n",
        "print(cik_dict)"
      ],
      "execution_count": 7,
      "outputs": [
        {
          "output_type": "stream",
          "text": [
            "{'AMZN': '1018724'}\n"
          ],
          "name": "stdout"
        }
      ]
    },
    {
      "cell_type": "code",
      "metadata": {
        "id": "TRyH6I9oJyRo",
        "colab_type": "code",
        "colab": {
          "base_uri": "https://localhost:8080/",
          "height": 54
        },
        "outputId": "65b93c63-18f8-42cf-f633-581ee219dd29"
      },
      "source": [
        "from SECEdgar.filings import Filing, FilingType\n",
        "my_filings = Filing(cik=cik_dict['AMZN'], filing_type=FilingType.FILING_10K)\n",
        "print(my_filings.get_urls())"
      ],
      "execution_count": 6,
      "outputs": [
        {
          "output_type": "stream",
          "text": [
            "['https://www.sec.gov/Archives/edgar/data/1018724/000101872420000004/0001018724-20-000004.txt', 'https://www.sec.gov/Archives/edgar/data/1018724/000101872419000004/0001018724-19-000004.txt', 'https://www.sec.gov/Archives/edgar/data/1018724/000101872418000005/0001018724-18-000005.txt', 'https://www.sec.gov/Archives/edgar/data/1018724/000101872417000011/0001018724-17-000011.txt', 'https://www.sec.gov/Archives/edgar/data/1018724/000101872416000172/0001018724-16-000172.txt', 'https://www.sec.gov/Archives/edgar/data/1018724/000101872415000006/0001018724-15-000006.txt', 'https://www.sec.gov/Archives/edgar/data/1018724/000101872414000006/0001018724-14-000006.txt', 'https://www.sec.gov/Archives/edgar/data/1018724/000119312513028520/0001193125-13-028520.txt', 'https://www.sec.gov/Archives/edgar/data/1018724/000119312512032846/0001193125-12-032846.txt', 'https://www.sec.gov/Archives/edgar/data/1018724/000119312511050136/0001193125-11-050136.txt']\n"
          ],
          "name": "stdout"
        }
      ]
    },
    {
      "cell_type": "code",
      "metadata": {
        "id": "dNfMnmpdOWlH",
        "colab_type": "code",
        "colab": {
          "base_uri": "https://localhost:8080/",
          "height": 54
        },
        "outputId": "199a552a-7257-4270-b837-ac2535f1e383"
      },
      "source": [
        "def retrieve_10K(cik_dict):\n",
        "    endpoint = r\"https://www.sec.gov/cgi-bin/browse-edgar\"\n",
        "\n",
        "    for cik in cik_dict.values():\n",
        "        param_dict = {\n",
        "            'action': 'getcompany',\n",
        "            'CIK': cik,\n",
        "            'type': '10-k',\n",
        "            'datea': '20091101',\n",
        "            'owner': 'exclude',\n",
        "            'start': '',\n",
        "            'output': 'atom',\n",
        "            'count': '1'\n",
        "        }\n",
        "\n",
        "        response = requests.get(url=endpoint, params=param_dict)\n",
        "        return response.content\n",
        "        \n",
        "content = retrieve_10K(cik_dict)\n",
        "content"
      ],
      "execution_count": 11,
      "outputs": [
        {
          "output_type": "execute_result",
          "data": {
            "text/plain": [
              "b'<?xml version=\"1.0\" encoding=\"ISO-8859-1\" ?>\\n  <feed xmlns=\"http://www.w3.org/2005/Atom\">\\n    <author>\\n      <email>webmaster@sec.gov</email>\\n      <name>Webmaster</name>\\n    </author>\\n    <company-info>\\n      <addresses>\\n        <address type=\"mailing\">\\n          <city>SEATTLE</city>\\n          <state>WA</state>\\n          <street1>410 TERRY AVENUE NORTH</street1>\\n          <zip>98109</zip>\\n        </address>\\n        <address type=\"business\">\\n          <city>SEATTLE</city>\\n          <phone>2062661000</phone>\\n          <state>WA</state>\\n          <street1>410 TERRY AVENUE NORTH</street1>\\n          <zip>98109</zip>\\n        </address>\\n      </addresses>\\n      <assigned-sic>5961</assigned-sic>\\n      <assigned-sic-desc>RETAIL-CATALOG &amp;amp; MAIL-ORDER HOUSES</assigned-sic-desc>\\n      <assigned-sic-href>https://www.sec.gov/cgi-bin/browse-edgar?action=getcompany&amp;SIC=5961&amp;owner=exclude&amp;count=10</assigned-sic-href>\\n      <cik>0001018724</cik>\\n      <cik-href>https://www.sec.gov/cgi-bin/browse-edgar?action=getcompany&amp;CIK=0001018724&amp;owner=exclude&amp;count=10</cik-href>\\n      <conformed-name>AMAZON COM INC</conformed-name>\\n      <fiscal-year-end>1231</fiscal-year-end>\\n      <office>Office of Trade &amp;amp; Services</office>\\n      <state-location>WA</state-location>\\n      <state-location-href>https://www.sec.gov/cgi-bin/browse-edgar?action=getcompany&amp;State=WA&amp;owner=exclude&amp;count=10</state-location-href>\\n      <state-of-incorporation>DE</state-of-incorporation>\\n    </company-info>\\n    <entry>\\n      <category label=\"form type\" scheme=\"https://www.sec.gov/\" term=\"10-K\" />\\n      <content type=\"text/xml\">\\n        <accession-nunber>0001018724-20-000004</accession-nunber>\\n        <act>34</act>\\n        <file-number>000-22513</file-number>\\n        <file-number-href>https://www.sec.gov/cgi-bin/browse-edgar?action=getcompany&amp;filenum=000-22513&amp;owner=exclude&amp;count=10</file-number-href>\\n        <filing-date>2020-01-31</filing-date>\\n        <filing-href>https://www.sec.gov/Archives/edgar/data/1018724/000101872420000004/0001018724-20-000004-index.htm</filing-href>\\n        <filing-type>10-K</filing-type>\\n        <film-number>20562951</film-number>\\n        <form-name>Annual report [Section 13 and 15(d), not S-K Item 405]</form-name>\\n        <size>13 MB</size>\\n        <xbrl_href>https://www.sec.gov/cgi-bin/viewer?action=view&amp;cik=1018724&amp;accession_number=0001018724-20-000004&amp;xbrl_type=v</xbrl_href>\\n      </content>\\n      <id>urn:tag:sec.gov,2008:accession-number=0001018724-20-000004</id>\\n      <link href=\"https://www.sec.gov/Archives/edgar/data/1018724/000101872420000004/0001018724-20-000004-index.htm\" rel=\"alternate\" type=\"text/html\" />\\n      <summary type=\"html\"> &lt;b&gt;Filed:&lt;/b&gt; 2020-01-31 &lt;b&gt;AccNo:&lt;/b&gt; 0001018724-20-000004 &lt;b&gt;Size:&lt;/b&gt; 13 MB</summary>\\n      <title>10-K  - Annual report [Section 13 and 15(d), not S-K Item 405]</title>\\n      <updated>2020-01-30T20:46:13-05:00</updated>\\n    </entry>\\n    <entry>\\n      <category label=\"form type\" scheme=\"https://www.sec.gov/\" term=\"10-K\" />\\n      <content type=\"text/xml\">\\n        <accession-nunber>0001018724-19-000004</accession-nunber>\\n        <act>34</act>\\n        <file-number>000-22513</file-number>\\n        <file-number-href>https://www.sec.gov/cgi-bin/browse-edgar?action=getcompany&amp;filenum=000-22513&amp;owner=exclude&amp;count=10</file-number-href>\\n        <filing-date>2019-02-01</filing-date>\\n        <filing-href>https://www.sec.gov/Archives/edgar/data/1018724/000101872419000004/0001018724-19-000004-index.htm</filing-href>\\n        <filing-type>10-K</filing-type>\\n        <film-number>19557427</film-number>\\n        <form-name>Annual report [Section 13 and 15(d), not S-K Item 405]</form-name>\\n        <size>11 MB</size>\\n        <xbrl_href>https://www.sec.gov/cgi-bin/viewer?action=view&amp;cik=1018724&amp;accession_number=0001018724-19-000004&amp;xbrl_type=v</xbrl_href>\\n      </content>\\n      <id>urn:tag:sec.gov,2008:accession-number=0001018724-19-000004</id>\\n      <link href=\"https://www.sec.gov/Archives/edgar/data/1018724/000101872419000004/0001018724-19-000004-index.htm\" rel=\"alternate\" type=\"text/html\" />\\n      <summary type=\"html\"> &lt;b&gt;Filed:&lt;/b&gt; 2019-02-01 &lt;b&gt;AccNo:&lt;/b&gt; 0001018724-19-000004 &lt;b&gt;Size:&lt;/b&gt; 11 MB</summary>\\n      <title>10-K  - Annual report [Section 13 and 15(d), not S-K Item 405]</title>\\n      <updated>2019-01-31T20:22:40-05:00</updated>\\n    </entry>\\n    <entry>\\n      <category label=\"form type\" scheme=\"https://www.sec.gov/\" term=\"10-K\" />\\n      <content type=\"text/xml\">\\n        <accession-nunber>0001018724-18-000005</accession-nunber>\\n        <act>34</act>\\n        <file-number>000-22513</file-number>\\n        <file-number-href>https://www.sec.gov/cgi-bin/browse-edgar?action=getcompany&amp;filenum=000-22513&amp;owner=exclude&amp;count=10</file-number-href>\\n        <filing-date>2018-02-02</filing-date>\\n        <filing-href>https://www.sec.gov/Archives/edgar/data/1018724/000101872418000005/0001018724-18-000005-index.htm</filing-href>\\n        <filing-type>10-K</filing-type>\\n        <film-number>18568399</film-number>\\n        <form-name>Annual report [Section 13 and 15(d), not S-K Item 405]</form-name>\\n        <size>12 MB</size>\\n        <xbrl_href>https://www.sec.gov/cgi-bin/viewer?action=view&amp;cik=1018724&amp;accession_number=0001018724-18-000005&amp;xbrl_type=v</xbrl_href>\\n      </content>\\n      <id>urn:tag:sec.gov,2008:accession-number=0001018724-18-000005</id>\\n      <link href=\"https://www.sec.gov/Archives/edgar/data/1018724/000101872418000005/0001018724-18-000005-index.htm\" rel=\"alternate\" type=\"text/html\" />\\n      <summary type=\"html\"> &lt;b&gt;Filed:&lt;/b&gt; 2018-02-02 &lt;b&gt;AccNo:&lt;/b&gt; 0001018724-18-000005 &lt;b&gt;Size:&lt;/b&gt; 12 MB</summary>\\n      <title>10-K  - Annual report [Section 13 and 15(d), not S-K Item 405]</title>\\n      <updated>2018-02-01T20:41:15-05:00</updated>\\n    </entry>\\n    <entry>\\n      <category label=\"form type\" scheme=\"https://www.sec.gov/\" term=\"10-K\" />\\n      <content type=\"text/xml\">\\n        <accession-nunber>0001018724-17-000011</accession-nunber>\\n        <act>34</act>\\n        <file-number>000-22513</file-number>\\n        <file-number-href>https://www.sec.gov/cgi-bin/browse-edgar?action=getcompany&amp;filenum=000-22513&amp;owner=exclude&amp;count=10</file-number-href>\\n        <filing-date>2017-02-10</filing-date>\\n        <filing-href>https://www.sec.gov/Archives/edgar/data/1018724/000101872417000011/0001018724-17-000011-index.htm</filing-href>\\n        <filing-type>10-K</filing-type>\\n        <film-number>17588807</film-number>\\n        <form-name>Annual report [Section 13 and 15(d), not S-K Item 405]</form-name>\\n        <size>11 MB</size>\\n        <xbrl_href>https://www.sec.gov/cgi-bin/viewer?action=view&amp;cik=1018724&amp;accession_number=0001018724-17-000011&amp;xbrl_type=v</xbrl_href>\\n      </content>\\n      <id>urn:tag:sec.gov,2008:accession-number=0001018724-17-000011</id>\\n      <link href=\"https://www.sec.gov/Archives/edgar/data/1018724/000101872417000011/0001018724-17-000011-index.htm\" rel=\"alternate\" type=\"text/html\" />\\n      <summary type=\"html\"> &lt;b&gt;Filed:&lt;/b&gt; 2017-02-10 &lt;b&gt;AccNo:&lt;/b&gt; 0001018724-17-000011 &lt;b&gt;Size:&lt;/b&gt; 11 MB</summary>\\n      <title>10-K  - Annual report [Section 13 and 15(d), not S-K Item 405]</title>\\n      <updated>2017-02-09T17:56:36-05:00</updated>\\n    </entry>\\n    <entry>\\n      <category label=\"form type\" scheme=\"https://www.sec.gov/\" term=\"10-K\" />\\n      <content type=\"text/xml\">\\n        <accession-nunber>0001018724-16-000172</accession-nunber>\\n        <act>34</act>\\n        <file-number>000-22513</file-number>\\n        <file-number-href>https://www.sec.gov/cgi-bin/browse-edgar?action=getcompany&amp;filenum=000-22513&amp;owner=exclude&amp;count=10</file-number-href>\\n        <filing-date>2016-01-29</filing-date>\\n        <filing-href>https://www.sec.gov/Archives/edgar/data/1018724/000101872416000172/0001018724-16-000172-index.htm</filing-href>\\n        <filing-type>10-K</filing-type>\\n        <film-number>161370623</film-number>\\n        <form-name>Annual report [Section 13 and 15(d), not S-K Item 405]</form-name>\\n        <size>11 MB</size>\\n        <xbrl_href>https://www.sec.gov/cgi-bin/viewer?action=view&amp;cik=1018724&amp;accession_number=0001018724-16-000172&amp;xbrl_type=v</xbrl_href>\\n      </content>\\n      <id>urn:tag:sec.gov,2008:accession-number=0001018724-16-000172</id>\\n      <link href=\"https://www.sec.gov/Archives/edgar/data/1018724/000101872416000172/0001018724-16-000172-index.htm\" rel=\"alternate\" type=\"text/html\" />\\n      <summary type=\"html\"> &lt;b&gt;Filed:&lt;/b&gt; 2016-01-29 &lt;b&gt;AccNo:&lt;/b&gt; 0001018724-16-000172 &lt;b&gt;Size:&lt;/b&gt; 11 MB</summary>\\n      <title>10-K  - Annual report [Section 13 and 15(d), not S-K Item 405]</title>\\n      <updated>2016-01-28T19:38:11-05:00</updated>\\n    </entry>\\n    <entry>\\n      <category label=\"form type\" scheme=\"https://www.sec.gov/\" term=\"10-K\" />\\n      <content type=\"text/xml\">\\n        <accession-nunber>0001018724-15-000006</accession-nunber>\\n        <act>34</act>\\n        <file-number>000-22513</file-number>\\n        <file-number-href>https://www.sec.gov/cgi-bin/browse-edgar?action=getcompany&amp;filenum=000-22513&amp;owner=exclude&amp;count=10</file-number-href>\\n        <filing-date>2015-01-30</filing-date>\\n        <filing-href>https://www.sec.gov/Archives/edgar/data/1018724/000101872415000006/0001018724-15-000006-index.htm</filing-href>\\n        <filing-type>10-K</filing-type>\\n        <film-number>15560475</film-number>\\n        <form-name>Annual report [Section 13 and 15(d), not S-K Item 405]</form-name>\\n        <size>15 MB</size>\\n        <xbrl_href>https://www.sec.gov/cgi-bin/viewer?action=view&amp;cik=1018724&amp;accession_number=0001018724-15-000006&amp;xbrl_type=v</xbrl_href>\\n      </content>\\n      <id>urn:tag:sec.gov,2008:accession-number=0001018724-15-000006</id>\\n      <link href=\"https://www.sec.gov/Archives/edgar/data/1018724/000101872415000006/0001018724-15-000006-index.htm\" rel=\"alternate\" type=\"text/html\" />\\n      <summary type=\"html\"> &lt;b&gt;Filed:&lt;/b&gt; 2015-01-30 &lt;b&gt;AccNo:&lt;/b&gt; 0001018724-15-000006 &lt;b&gt;Size:&lt;/b&gt; 15 MB</summary>\\n      <title>10-K  - Annual report [Section 13 and 15(d), not S-K Item 405]</title>\\n      <updated>2015-01-29T19:38:08-05:00</updated>\\n    </entry>\\n    <entry>\\n      <category label=\"form type\" scheme=\"https://www.sec.gov/\" term=\"10-K\" />\\n      <content type=\"text/xml\">\\n        <accession-nunber>0001018724-14-000006</accession-nunber>\\n        <act>34</act>\\n        <file-number>000-22513</file-number>\\n        <file-number-href>https://www.sec.gov/cgi-bin/browse-edgar?action=getcompany&amp;filenum=000-22513&amp;owner=exclude&amp;count=10</file-number-href>\\n        <filing-date>2014-01-31</filing-date>\\n        <filing-href>https://www.sec.gov/Archives/edgar/data/1018724/000101872414000006/0001018724-14-000006-index.htm</filing-href>\\n        <filing-type>10-K</filing-type>\\n        <film-number>14562606</film-number>\\n        <form-name>Annual report [Section 13 and 15(d), not S-K Item 405]</form-name>\\n        <size>14 MB</size>\\n        <xbrl_href>https://www.sec.gov/cgi-bin/viewer?action=view&amp;cik=1018724&amp;accession_number=0001018724-14-000006&amp;xbrl_type=v</xbrl_href>\\n      </content>\\n      <id>urn:tag:sec.gov,2008:accession-number=0001018724-14-000006</id>\\n      <link href=\"https://www.sec.gov/Archives/edgar/data/1018724/000101872414000006/0001018724-14-000006-index.htm\" rel=\"alternate\" type=\"text/html\" />\\n      <summary type=\"html\"> &lt;b&gt;Filed:&lt;/b&gt; 2014-01-31 &lt;b&gt;AccNo:&lt;/b&gt; 0001018724-14-000006 &lt;b&gt;Size:&lt;/b&gt; 14 MB</summary>\\n      <title>10-K  - Annual report [Section 13 and 15(d), not S-K Item 405]</title>\\n      <updated>2014-01-30T21:52:38-05:00</updated>\\n    </entry>\\n    <entry>\\n      <category label=\"form type\" scheme=\"https://www.sec.gov/\" term=\"10-K\" />\\n      <content type=\"text/xml\">\\n        <accession-nunber>0001193125-13-028520</accession-nunber>\\n        <act>34</act>\\n        <file-number>000-22513</file-number>\\n        <file-number-href>https://www.sec.gov/cgi-bin/browse-edgar?action=getcompany&amp;filenum=000-22513&amp;owner=exclude&amp;count=10</file-number-href>\\n        <filing-date>2013-01-30</filing-date>\\n        <filing-href>https://www.sec.gov/Archives/edgar/data/1018724/000119312513028520/0001193125-13-028520-index.htm</filing-href>\\n        <filing-type>10-K</filing-type>\\n        <film-number>13556668</film-number>\\n        <form-name>Annual report [Section 13 and 15(d), not S-K Item 405]</form-name>\\n        <size>11 MB</size>\\n        <xbrl_href>https://www.sec.gov/cgi-bin/viewer?action=view&amp;cik=1018724&amp;accession_number=0001193125-13-028520&amp;xbrl_type=v</xbrl_href>\\n      </content>\\n      <id>urn:tag:sec.gov,2008:accession-number=0001193125-13-028520</id>\\n      <link href=\"https://www.sec.gov/Archives/edgar/data/1018724/000119312513028520/0001193125-13-028520-index.htm\" rel=\"alternate\" type=\"text/html\" />\\n      <summary type=\"html\"> &lt;b&gt;Filed:&lt;/b&gt; 2013-01-30 &lt;b&gt;AccNo:&lt;/b&gt; 0001193125-13-028520 &lt;b&gt;Size:&lt;/b&gt; 11 MB</summary>\\n      <title>10-K  - Annual report [Section 13 and 15(d), not S-K Item 405]</title>\\n      <updated>2013-01-29T19:13:32-05:00</updated>\\n    </entry>\\n    <entry>\\n      <category label=\"form type\" scheme=\"https://www.sec.gov/\" term=\"10-K\" />\\n      <content type=\"text/xml\">\\n        <accession-nunber>0001193125-12-032846</accession-nunber>\\n        <act>34</act>\\n        <file-number>000-22513</file-number>\\n        <file-number-href>https://www.sec.gov/cgi-bin/browse-edgar?action=getcompany&amp;filenum=000-22513&amp;owner=exclude&amp;count=10</file-number-href>\\n        <filing-date>2012-02-01</filing-date>\\n        <filing-href>https://www.sec.gov/Archives/edgar/data/1018724/000119312512032846/0001193125-12-032846-index.htm</filing-href>\\n        <filing-type>10-K</filing-type>\\n        <film-number>12560909</film-number>\\n        <form-name>Annual report [Section 13 and 15(d), not S-K Item 405]</form-name>\\n        <size>10 MB</size>\\n        <xbrl_href>https://www.sec.gov/cgi-bin/viewer?action=view&amp;cik=1018724&amp;accession_number=0001193125-12-032846&amp;xbrl_type=v</xbrl_href>\\n      </content>\\n      <id>urn:tag:sec.gov,2008:accession-number=0001193125-12-032846</id>\\n      <link href=\"https://www.sec.gov/Archives/edgar/data/1018724/000119312512032846/0001193125-12-032846-index.htm\" rel=\"alternate\" type=\"text/html\" />\\n      <summary type=\"html\"> &lt;b&gt;Filed:&lt;/b&gt; 2012-02-01 &lt;b&gt;AccNo:&lt;/b&gt; 0001193125-12-032846 &lt;b&gt;Size:&lt;/b&gt; 10 MB</summary>\\n      <title>10-K  - Annual report [Section 13 and 15(d), not S-K Item 405]</title>\\n      <updated>2012-01-31T21:58:32-05:00</updated>\\n    </entry>\\n    <entry>\\n      <category label=\"form type\" scheme=\"https://www.sec.gov/\" term=\"10-K/A\" />\\n      <content type=\"text/xml\">\\n        <accession-nunber>0001193125-11-050136</accession-nunber>\\n        <act>34</act>\\n        <amend>[Amend]</amend>\\n        <file-number>000-22513</file-number>\\n        <file-number-href>https://www.sec.gov/cgi-bin/browse-edgar?action=getcompany&amp;filenum=000-22513&amp;owner=exclude&amp;count=10</file-number-href>\\n        <filing-date>2011-02-28</filing-date>\\n        <filing-href>https://www.sec.gov/Archives/edgar/data/1018724/000119312511050136/0001193125-11-050136-index.htm</filing-href>\\n        <filing-type>10-K/A</filing-type>\\n        <film-number>11647141</film-number>\\n        <form-name>Annual report [Section 13 and 15(d), not S-K Item 405]</form-name>\\n        <size>37 KB</size>\\n      </content>\\n      <id>urn:tag:sec.gov,2008:accession-number=0001193125-11-050136</id>\\n      <link href=\"https://www.sec.gov/Archives/edgar/data/1018724/000119312511050136/0001193125-11-050136-index.htm\" rel=\"alternate\" type=\"text/html\" />\\n      <summary type=\"html\"> &lt;b&gt;Filed:&lt;/b&gt; 2011-02-28 &lt;b&gt;AccNo:&lt;/b&gt; 0001193125-11-050136 &lt;b&gt;Size:&lt;/b&gt; 37 KB</summary>\\n      <title>10-K/A [Amend]  - Annual report [Section 13 and 15(d), not S-K Item 405]</title>\\n      <updated>2011-02-28T17:01:11-05:00</updated>\\n    </entry>\\n    <id>https://www.sec.gov/cgi-bin/browse-edgar?action=getcompany&amp;CIK=0001018724</id>\\n    <link href=\"https://www.sec.gov/cgi-bin/browse-edgar?action=getcompany&amp;CIK=1018724&amp;type=10-k&amp;datea=11/01/2009&amp;owner=exclude&amp;start=0&amp;count=10\" rel=\"alternate\" type=\"text/html\" />\\n    <link href=\"https://www.sec.gov/cgi-bin/browse-edgar?action=getcompany&amp;CIK=1018724&amp;type=10-k&amp;datea=11/01/2009&amp;owner=exclude&amp;start=0&amp;count=10&amp;output=atom\" rel=\"self\" type=\"application/atom+xml\" />\\n    <link href=\"https://www.sec.gov/cgi-bin/browse-edgar?action=getcompany&amp;CIK=0001018724&amp;type=10-k%25&amp;datea=11/01/2009&amp;dateb=&amp;owner=exclude&amp;count=10&amp;output=atom&amp;start=10\" rel=\"next\" type=\"application/atom+xml\" />\\n    <title>AMAZON COM INC  (0001018724)</title>\\n    <updated>2020-03-07T22:46:43-05:00</updated>\\n  </feed>\\n'"
            ]
          },
          "metadata": {
            "tags": []
          },
          "execution_count": 11
        }
      ]
    },
    {
      "cell_type": "code",
      "metadata": {
        "id": "rgHHFyC9N2Xr",
        "colab_type": "code",
        "colab": {}
      },
      "source": [
        ""
      ],
      "execution_count": 0,
      "outputs": []
    }
  ]
}